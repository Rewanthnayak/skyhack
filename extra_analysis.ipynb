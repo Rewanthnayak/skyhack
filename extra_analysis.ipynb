{
 "cells": [
  {
   "cell_type": "code",
   "execution_count": 1,
   "id": "76bd89c6-2da2-492b-88cd-3282234c8c66",
   "metadata": {},
   "outputs": [],
   "source": [
    "import pandas as pd\n",
    "import numpy as np\n",
    "import matplotlib.pyplot as plt"
   ]
  },
  {
   "cell_type": "code",
   "execution_count": 2,
   "id": "39465ce0-528b-4ac3-ac16-f2a92dffb119",
   "metadata": {},
   "outputs": [],
   "source": [
    "inflight_sat = pd.read_csv('Survey data_Inflight Satisfaction Score.csv')"
   ]
  },
  {
   "cell_type": "code",
   "execution_count": 3,
   "id": "3027e82c-b089-40eb-8098-75688e872dbf",
   "metadata": {},
   "outputs": [
    {
     "data": {
      "text/html": [
       "<div>\n",
       "<style scoped>\n",
       "    .dataframe tbody tr th:only-of-type {\n",
       "        vertical-align: middle;\n",
       "    }\n",
       "\n",
       "    .dataframe tbody tr th {\n",
       "        vertical-align: top;\n",
       "    }\n",
       "\n",
       "    .dataframe thead th {\n",
       "        text-align: right;\n",
       "    }\n",
       "</style>\n",
       "<table border=\"1\" class=\"dataframe\">\n",
       "  <thead>\n",
       "    <tr style=\"text-align: right;\">\n",
       "      <th></th>\n",
       "      <th>flight_number</th>\n",
       "      <th>origin_station_code</th>\n",
       "      <th>destination_station_code</th>\n",
       "      <th>record_locator</th>\n",
       "      <th>scheduled_departure_date</th>\n",
       "      <th>question_text</th>\n",
       "      <th>score</th>\n",
       "      <th>satisfaction_type</th>\n",
       "      <th>driver_sub_group1</th>\n",
       "      <th>driver_sub_group2</th>\n",
       "      <th>...</th>\n",
       "      <th>equipment_type_code</th>\n",
       "      <th>ua_uax</th>\n",
       "      <th>actual_flown_miles</th>\n",
       "      <th>haul_type</th>\n",
       "      <th>departure_gate</th>\n",
       "      <th>arrival_gate</th>\n",
       "      <th>international_domestic_indicator</th>\n",
       "      <th>response_group</th>\n",
       "      <th>media_provider</th>\n",
       "      <th>hub_spoke</th>\n",
       "    </tr>\n",
       "  </thead>\n",
       "  <tbody>\n",
       "    <tr>\n",
       "      <th>0</th>\n",
       "      <td>3802</td>\n",
       "      <td>MKX</td>\n",
       "      <td>ORX</td>\n",
       "      <td>CYXXJJ</td>\n",
       "      <td>9/1/2022</td>\n",
       "      <td>How satisfied were you with the food &amp; beverag...</td>\n",
       "      <td>2</td>\n",
       "      <td>Dissatisfied</td>\n",
       "      <td>food &amp; beverage</td>\n",
       "      <td>food and beverage satisfaction</td>\n",
       "      <td>...</td>\n",
       "      <td>CRZ</td>\n",
       "      <td>UAX</td>\n",
       "      <td>67</td>\n",
       "      <td>Short</td>\n",
       "      <td>C12</td>\n",
       "      <td>F10</td>\n",
       "      <td>Domestic</td>\n",
       "      <td>non-member</td>\n",
       "      <td>NaN</td>\n",
       "      <td>spoke departure</td>\n",
       "    </tr>\n",
       "    <tr>\n",
       "      <th>1</th>\n",
       "      <td>4645</td>\n",
       "      <td>COX</td>\n",
       "      <td>DEX</td>\n",
       "      <td>DRXXMH</td>\n",
       "      <td>9/1/2022</td>\n",
       "      <td>How satisfied were you with the food &amp; beverag...</td>\n",
       "      <td>5</td>\n",
       "      <td>Satisfied</td>\n",
       "      <td>food &amp; beverage</td>\n",
       "      <td>food and beverage satisfaction</td>\n",
       "      <td>...</td>\n",
       "      <td>E75</td>\n",
       "      <td>UAX</td>\n",
       "      <td>72</td>\n",
       "      <td>Short</td>\n",
       "      <td>5</td>\n",
       "      <td>B60</td>\n",
       "      <td>Domestic</td>\n",
       "      <td>member</td>\n",
       "      <td>GOGO</td>\n",
       "      <td>spoke departure</td>\n",
       "    </tr>\n",
       "  </tbody>\n",
       "</table>\n",
       "<p>2 rows × 31 columns</p>\n",
       "</div>"
      ],
      "text/plain": [
       "   flight_number origin_station_code destination_station_code record_locator  \\\n",
       "0           3802                 MKX                      ORX         CYXXJJ   \n",
       "1           4645                 COX                      DEX         DRXXMH   \n",
       "\n",
       "  scheduled_departure_date                                      question_text  \\\n",
       "0                 9/1/2022  How satisfied were you with the food & beverag...   \n",
       "1                 9/1/2022  How satisfied were you with the food & beverag...   \n",
       "\n",
       "  score satisfaction_type driver_sub_group1               driver_sub_group2  \\\n",
       "0     2      Dissatisfied   food & beverage  food and beverage satisfaction   \n",
       "1     5         Satisfied   food & beverage  food and beverage satisfaction   \n",
       "\n",
       "   ...  equipment_type_code ua_uax actual_flown_miles haul_type  \\\n",
       "0  ...                  CRZ    UAX                 67     Short   \n",
       "1  ...                  E75    UAX                 72     Short   \n",
       "\n",
       "  departure_gate  arrival_gate international_domestic_indicator  \\\n",
       "0            C12           F10                         Domestic   \n",
       "1              5           B60                         Domestic   \n",
       "\n",
       "  response_group media_provider        hub_spoke  \n",
       "0     non-member            NaN  spoke departure  \n",
       "1         member           GOGO  spoke departure  \n",
       "\n",
       "[2 rows x 31 columns]"
      ]
     },
     "execution_count": 3,
     "metadata": {},
     "output_type": "execute_result"
    }
   ],
   "source": [
    "inflight_sat.head(2)"
   ]
  },
  {
   "cell_type": "code",
   "execution_count": 47,
   "id": "fd0a3523-ad12-46f6-abc8-20f2dc53ecdd",
   "metadata": {},
   "outputs": [
    {
     "data": {
      "text/plain": [
       "array(['Domestic', 'International'], dtype=object)"
      ]
     },
     "execution_count": 47,
     "metadata": {},
     "output_type": "execute_result"
    }
   ],
   "source": [
    "inflight_sat['international_domestic_indicator'].unique()"
   ]
  },
  {
   "cell_type": "code",
   "execution_count": 4,
   "id": "d3390c70-28ba-4a5b-9be5-25e8f34ab1c1",
   "metadata": {},
   "outputs": [
    {
     "data": {
      "text/plain": [
       "Index(['flight_number', 'origin_station_code', 'destination_station_code',\n",
       "       'record_locator', 'scheduled_departure_date', 'question_text', 'score',\n",
       "       'satisfaction_type', 'driver_sub_group1', 'driver_sub_group2',\n",
       "       'arrival_delay_minutes', 'arrival_delay_group', 'cabin_code_desc',\n",
       "       'cabin_name', 'entity', 'number_of_legs', 'seat_factor_band',\n",
       "       'loyalty_program_level', 'generation', 'fleet_type_description',\n",
       "       'fleet_usage', 'equipment_type_code', 'ua_uax', 'actual_flown_miles',\n",
       "       'haul_type', 'departure_gate', 'arrival_gate',\n",
       "       'international_domestic_indicator', 'response_group', 'media_provider',\n",
       "       'hub_spoke'],\n",
       "      dtype='object')"
      ]
     },
     "execution_count": 4,
     "metadata": {},
     "output_type": "execute_result"
    }
   ],
   "source": [
    "inflight_sat.columns"
   ]
  },
  {
   "cell_type": "code",
   "execution_count": 57,
   "id": "1522b31d-2bba-43c7-b76c-47f2971057b9",
   "metadata": {},
   "outputs": [
    {
     "data": {
      "text/plain": [
       "array(['Domestic', 'International'], dtype=object)"
      ]
     },
     "execution_count": 57,
     "metadata": {},
     "output_type": "execute_result"
    }
   ],
   "source": [
    "inflight_sat['international_domestic_indicator'].unique()"
   ]
  },
  {
   "cell_type": "code",
   "execution_count": 56,
   "id": "bbb9d852-e8b4-4124-afe6-917798344fa4",
   "metadata": {},
   "outputs": [],
   "source": [
    "df = inflight_sat[['flight_number','origin_station_code','destination_station_code','score','satisfaction_type','arrival_delay_minutes','actual_flown_miles','arrival_delay_group','departure_gate','international_domestic_indicator']]"
   ]
  },
  {
   "cell_type": "code",
   "execution_count": 63,
   "id": "f3518c6f-b6bd-44d9-9a41-093e271c15a0",
   "metadata": {
    "collapsed": true,
    "jupyter": {
     "outputs_hidden": true
    },
    "tags": []
   },
   "outputs": [
    {
     "name": "stderr",
     "output_type": "stream",
     "text": [
      "C:\\Users\\rewan\\AppData\\Local\\Temp\\ipykernel_22328\\4128219850.py:1: SettingWithCopyWarning: \n",
      "A value is trying to be set on a copy of a slice from a DataFrame\n",
      "\n",
      "See the caveats in the documentation: https://pandas.pydata.org/pandas-docs/stable/user_guide/indexing.html#returning-a-view-versus-a-copy\n",
      "  df['satisfaction_type'].replace('Dissatisfied', 0, inplace=True)\n",
      "C:\\Users\\rewan\\AppData\\Local\\Temp\\ipykernel_22328\\4128219850.py:2: SettingWithCopyWarning: \n",
      "A value is trying to be set on a copy of a slice from a DataFrame\n",
      "\n",
      "See the caveats in the documentation: https://pandas.pydata.org/pandas-docs/stable/user_guide/indexing.html#returning-a-view-versus-a-copy\n",
      "  df['satisfaction_type'].replace('Satisfied', 1, inplace=True)\n",
      "C:\\Users\\rewan\\AppData\\Local\\Temp\\ipykernel_22328\\4128219850.py:3: SettingWithCopyWarning: \n",
      "A value is trying to be set on a copy of a slice from a DataFrame\n",
      "\n",
      "See the caveats in the documentation: https://pandas.pydata.org/pandas-docs/stable/user_guide/indexing.html#returning-a-view-versus-a-copy\n",
      "  df['arrival_delay_group'].replace('Delayed', 0, inplace=True)\n",
      "C:\\Users\\rewan\\AppData\\Local\\Temp\\ipykernel_22328\\4128219850.py:4: SettingWithCopyWarning: \n",
      "A value is trying to be set on a copy of a slice from a DataFrame\n",
      "\n",
      "See the caveats in the documentation: https://pandas.pydata.org/pandas-docs/stable/user_guide/indexing.html#returning-a-view-versus-a-copy\n",
      "  df['arrival_delay_group'].replace('Early & Ontime', 1, inplace=True)\n",
      "C:\\Users\\rewan\\AppData\\Local\\Temp\\ipykernel_22328\\4128219850.py:5: SettingWithCopyWarning: \n",
      "A value is trying to be set on a copy of a slice from a DataFrame\n",
      "\n",
      "See the caveats in the documentation: https://pandas.pydata.org/pandas-docs/stable/user_guide/indexing.html#returning-a-view-versus-a-copy\n",
      "  df['international_domestic_indicator'].replace({'Domestic':0,'International':1}, inplace=True)\n",
      "C:\\Users\\rewan\\AppData\\Local\\Temp\\ipykernel_22328\\4128219850.py:6: SettingWithCopyWarning: \n",
      "A value is trying to be set on a copy of a slice from a DataFrame\n",
      "\n",
      "See the caveats in the documentation: https://pandas.pydata.org/pandas-docs/stable/user_guide/indexing.html#returning-a-view-versus-a-copy\n",
      "  df.dropna(inplace=True)\n"
     ]
    }
   ],
   "source": [
    "df['satisfaction_type'].replace('Dissatisfied', 0, inplace=True)\n",
    "df['satisfaction_type'].replace('Satisfied', 1, inplace=True)\n",
    "df['arrival_delay_group'].replace('Delayed', 0, inplace=True)\n",
    "df['arrival_delay_group'].replace('Early & Ontime', 1, inplace=True)\n",
    "df['international_domestic_indicator'].replace({'Domestic':0,'International':1}, inplace=True)\n",
    "df.dropna(inplace=True)"
   ]
  },
  {
   "cell_type": "code",
   "execution_count": 64,
   "id": "ff6c4e63-f68d-46f1-9584-b3d540d41549",
   "metadata": {
    "collapsed": true,
    "jupyter": {
     "outputs_hidden": true
    },
    "tags": []
   },
   "outputs": [
    {
     "data": {
      "text/html": [
       "<div>\n",
       "<style scoped>\n",
       "    .dataframe tbody tr th:only-of-type {\n",
       "        vertical-align: middle;\n",
       "    }\n",
       "\n",
       "    .dataframe tbody tr th {\n",
       "        vertical-align: top;\n",
       "    }\n",
       "\n",
       "    .dataframe thead th {\n",
       "        text-align: right;\n",
       "    }\n",
       "</style>\n",
       "<table border=\"1\" class=\"dataframe\">\n",
       "  <thead>\n",
       "    <tr style=\"text-align: right;\">\n",
       "      <th></th>\n",
       "      <th>flight_number</th>\n",
       "      <th>origin_station_code</th>\n",
       "      <th>destination_station_code</th>\n",
       "      <th>score</th>\n",
       "      <th>satisfaction_type</th>\n",
       "      <th>arrival_delay_minutes</th>\n",
       "      <th>actual_flown_miles</th>\n",
       "      <th>arrival_delay_group</th>\n",
       "      <th>departure_gate</th>\n",
       "      <th>international_domestic_indicator</th>\n",
       "    </tr>\n",
       "  </thead>\n",
       "  <tbody>\n",
       "    <tr>\n",
       "      <th>0</th>\n",
       "      <td>3802</td>\n",
       "      <td>MKX</td>\n",
       "      <td>ORX</td>\n",
       "      <td>2</td>\n",
       "      <td>0.0</td>\n",
       "      <td>-24</td>\n",
       "      <td>67</td>\n",
       "      <td>1</td>\n",
       "      <td>C12</td>\n",
       "      <td>0</td>\n",
       "    </tr>\n",
       "    <tr>\n",
       "      <th>1</th>\n",
       "      <td>4645</td>\n",
       "      <td>COX</td>\n",
       "      <td>DEX</td>\n",
       "      <td>5</td>\n",
       "      <td>1.0</td>\n",
       "      <td>10</td>\n",
       "      <td>72</td>\n",
       "      <td>0</td>\n",
       "      <td>5</td>\n",
       "      <td>0</td>\n",
       "    </tr>\n",
       "    <tr>\n",
       "      <th>2</th>\n",
       "      <td>5236</td>\n",
       "      <td>COX</td>\n",
       "      <td>DEX</td>\n",
       "      <td>5</td>\n",
       "      <td>1.0</td>\n",
       "      <td>-8</td>\n",
       "      <td>72</td>\n",
       "      <td>1</td>\n",
       "      <td>7</td>\n",
       "      <td>0</td>\n",
       "    </tr>\n",
       "    <tr>\n",
       "      <th>3</th>\n",
       "      <td>4686</td>\n",
       "      <td>DEX</td>\n",
       "      <td>COX</td>\n",
       "      <td>3</td>\n",
       "      <td>0.0</td>\n",
       "      <td>-11</td>\n",
       "      <td>72</td>\n",
       "      <td>1</td>\n",
       "      <td>B82</td>\n",
       "      <td>0</td>\n",
       "    </tr>\n",
       "    <tr>\n",
       "      <th>4</th>\n",
       "      <td>671</td>\n",
       "      <td>DEX</td>\n",
       "      <td>COX</td>\n",
       "      <td>5</td>\n",
       "      <td>1.0</td>\n",
       "      <td>18</td>\n",
       "      <td>72</td>\n",
       "      <td>0</td>\n",
       "      <td>B24</td>\n",
       "      <td>0</td>\n",
       "    </tr>\n",
       "    <tr>\n",
       "      <th>...</th>\n",
       "      <td>...</td>\n",
       "      <td>...</td>\n",
       "      <td>...</td>\n",
       "      <td>...</td>\n",
       "      <td>...</td>\n",
       "      <td>...</td>\n",
       "      <td>...</td>\n",
       "      <td>...</td>\n",
       "      <td>...</td>\n",
       "      <td>...</td>\n",
       "    </tr>\n",
       "    <tr>\n",
       "      <th>47066</th>\n",
       "      <td>189</td>\n",
       "      <td>EWX</td>\n",
       "      <td>JNX</td>\n",
       "      <td>4</td>\n",
       "      <td>1.0</td>\n",
       "      <td>-3</td>\n",
       "      <td>7989</td>\n",
       "      <td>1</td>\n",
       "      <td>C126</td>\n",
       "      <td>1</td>\n",
       "    </tr>\n",
       "    <tr>\n",
       "      <th>47067</th>\n",
       "      <td>188</td>\n",
       "      <td>JNX</td>\n",
       "      <td>EWX</td>\n",
       "      <td>3</td>\n",
       "      <td>0.0</td>\n",
       "      <td>-22</td>\n",
       "      <td>7989</td>\n",
       "      <td>1</td>\n",
       "      <td>A11</td>\n",
       "      <td>1</td>\n",
       "    </tr>\n",
       "    <tr>\n",
       "      <th>47069</th>\n",
       "      <td>2</td>\n",
       "      <td>SFX</td>\n",
       "      <td>SIX</td>\n",
       "      <td>4</td>\n",
       "      <td>1.0</td>\n",
       "      <td>-16</td>\n",
       "      <td>8440</td>\n",
       "      <td>1</td>\n",
       "      <td>G9</td>\n",
       "      <td>1</td>\n",
       "    </tr>\n",
       "    <tr>\n",
       "      <th>47070</th>\n",
       "      <td>2</td>\n",
       "      <td>SFX</td>\n",
       "      <td>SIX</td>\n",
       "      <td>4</td>\n",
       "      <td>1.0</td>\n",
       "      <td>-16</td>\n",
       "      <td>8440</td>\n",
       "      <td>1</td>\n",
       "      <td>G9</td>\n",
       "      <td>1</td>\n",
       "    </tr>\n",
       "    <tr>\n",
       "      <th>47071</th>\n",
       "      <td>3</td>\n",
       "      <td>SIX</td>\n",
       "      <td>SFX</td>\n",
       "      <td>1</td>\n",
       "      <td>0.0</td>\n",
       "      <td>18</td>\n",
       "      <td>8440</td>\n",
       "      <td>0</td>\n",
       "      <td>F52</td>\n",
       "      <td>1</td>\n",
       "    </tr>\n",
       "  </tbody>\n",
       "</table>\n",
       "<p>34870 rows × 10 columns</p>\n",
       "</div>"
      ],
      "text/plain": [
       "       flight_number origin_station_code destination_station_code score  \\\n",
       "0               3802                 MKX                      ORX     2   \n",
       "1               4645                 COX                      DEX     5   \n",
       "2               5236                 COX                      DEX     5   \n",
       "3               4686                 DEX                      COX     3   \n",
       "4                671                 DEX                      COX     5   \n",
       "...              ...                 ...                      ...   ...   \n",
       "47066            189                 EWX                      JNX     4   \n",
       "47067            188                 JNX                      EWX     3   \n",
       "47069              2                 SFX                      SIX     4   \n",
       "47070              2                 SFX                      SIX     4   \n",
       "47071              3                 SIX                      SFX     1   \n",
       "\n",
       "       satisfaction_type  arrival_delay_minutes  actual_flown_miles  \\\n",
       "0                    0.0                    -24                  67   \n",
       "1                    1.0                     10                  72   \n",
       "2                    1.0                     -8                  72   \n",
       "3                    0.0                    -11                  72   \n",
       "4                    1.0                     18                  72   \n",
       "...                  ...                    ...                 ...   \n",
       "47066                1.0                     -3                7989   \n",
       "47067                0.0                    -22                7989   \n",
       "47069                1.0                    -16                8440   \n",
       "47070                1.0                    -16                8440   \n",
       "47071                0.0                     18                8440   \n",
       "\n",
       "       arrival_delay_group departure_gate  international_domestic_indicator  \n",
       "0                        1            C12                                 0  \n",
       "1                        0              5                                 0  \n",
       "2                        1              7                                 0  \n",
       "3                        1            B82                                 0  \n",
       "4                        0            B24                                 0  \n",
       "...                    ...            ...                               ...  \n",
       "47066                    1           C126                                 1  \n",
       "47067                    1            A11                                 1  \n",
       "47069                    1             G9                                 1  \n",
       "47070                    1             G9                                 1  \n",
       "47071                    0            F52                                 1  \n",
       "\n",
       "[34870 rows x 10 columns]"
      ]
     },
     "execution_count": 64,
     "metadata": {},
     "output_type": "execute_result"
    }
   ],
   "source": [
    "df"
   ]
  },
  {
   "cell_type": "code",
   "execution_count": 65,
   "id": "48da6bc9-4417-412e-9103-5446670dce55",
   "metadata": {},
   "outputs": [],
   "source": [
    "def calc_ifs(df,column):\n",
    "    gb = df.groupby(column)\n",
    "    sat = gb['satisfaction_type'].sum()\n",
    "    total = gb['satisfaction_type'].count()\n",
    "    miles = gb['actual_flown_miles'].mean()\n",
    "    delay = gb['arrival_delay_minutes'].mean()\n",
    "    inter = gb['international_domestic_indicator'].sum()\n",
    "    dom = gb['international_domestic_indicator'].count() - inter\n",
    "    ifs = sat/total*100\n",
    "    return ifs, miles, delay,total, dom, inter"
   ]
  },
  {
   "cell_type": "code",
   "execution_count": 70,
   "id": "60f8e255-3acb-4f3f-b355-bbaf5aea464f",
   "metadata": {},
   "outputs": [],
   "source": [
    "ifs, miles, delay, total, dom, inter = calc_ifs(df,'flight_number')\n",
    "result = pd.DataFrame({'ifs':ifs, 'delay':delay,'domestic':dom, 'international':inter})\n",
    "result[total>50].to_csv('flight_no_ifs.csv')"
   ]
  },
  {
   "cell_type": "code",
   "execution_count": 55,
   "id": "10b4b04e-99a4-4225-9fe3-0691f9766037",
   "metadata": {},
   "outputs": [],
   "source": [
    "ifs, miles, delay, total = calc_ifs(df,'departure_gate')\n",
    "result = pd.DataFrame({'ifs':ifs, 'delay':delay})\n",
    "result[total>50].to_csv('departuregate_ifs.csv')"
   ]
  },
  {
   "cell_type": "code",
   "execution_count": 43,
   "id": "dfda4e62-3693-42c6-b442-3d4c71a972e8",
   "metadata": {},
   "outputs": [
    {
     "name": "stderr",
     "output_type": "stream",
     "text": [
      "C:\\Users\\rewan\\AppData\\Local\\Temp\\ipykernel_22328\\1936940588.py:1: UserWarning: Boolean Series key will be reindexed to match DataFrame index.\n",
      "  domestic = df[inflight_sat['international_domestic_indicator']=='Domestic']\n"
     ]
    }
   ],
   "source": [
    "domestic = df[inflight_sat['international_domestic_indicator']=='Domestic']"
   ]
  },
  {
   "cell_type": "code",
   "execution_count": 46,
   "id": "479712b6-341b-4e42-9caf-f7f3704a965c",
   "metadata": {},
   "outputs": [],
   "source": [
    "ifs, miles, delay, total = calc_ifs(domestic,'flight_number')\n",
    "result = pd.DataFrame({'ifs':ifs, 'delay':delay})\n",
    "result[total>50].to_csv('domestic_flight_no_ifs.csv')"
   ]
  },
  {
   "cell_type": "code",
   "execution_count": 48,
   "id": "dd9e85a5-15eb-404a-a097-bb056fd21d63",
   "metadata": {},
   "outputs": [
    {
     "name": "stderr",
     "output_type": "stream",
     "text": [
      "C:\\Users\\rewan\\AppData\\Local\\Temp\\ipykernel_22328\\337549563.py:1: UserWarning: Boolean Series key will be reindexed to match DataFrame index.\n",
      "  international = df[inflight_sat['international_domestic_indicator']=='International']\n"
     ]
    }
   ],
   "source": [
    "international = df[inflight_sat['international_domestic_indicator']=='International']"
   ]
  },
  {
   "cell_type": "code",
   "execution_count": 49,
   "id": "06d93920-8a63-4d47-8c14-68218d1ebe97",
   "metadata": {},
   "outputs": [],
   "source": [
    "ifs, miles, delay, total = calc_ifs(international,'flight_number')\n",
    "result = pd.DataFrame({'ifs':ifs, 'delay':delay})\n",
    "result[total>50].to_csv('international_flight_no_ifs.csv')"
   ]
  },
  {
   "cell_type": "code",
   "execution_count": null,
   "id": "c8b407ca-d2ec-4263-b434-7a31818d5a82",
   "metadata": {},
   "outputs": [],
   "source": []
  },
  {
   "cell_type": "code",
   "execution_count": 10,
   "id": "76723e35-14aa-4c7d-a42f-c97b474e4112",
   "metadata": {},
   "outputs": [],
   "source": [
    "gb = df.groupby(['flight_number'])\n",
    "sat = gb['satisfaction_type'].sum()\n",
    "total = gb['satisfaction_type'].count()\n",
    "miles = gb['actual_flown_miles'].mean()\n",
    "delay = gb['arrival_delay_minutes'].mean()\n",
    "delayp = gb['arrival_delay_group'].sum()/gb['arrival_delay_group'].count()*100\n",
    "ifs = sat/total*100"
   ]
  },
  {
   "cell_type": "code",
   "execution_count": 19,
   "id": "c636bed9-3949-4542-aef9-d77fad662be5",
   "metadata": {},
   "outputs": [],
   "source": [
    "ifs[total>50].to_csv('flight_no_ifs.csv')"
   ]
  },
  {
   "cell_type": "code",
   "execution_count": 17,
   "id": "64d8642a-8539-4b52-99c7-7b94f2696fdf",
   "metadata": {},
   "outputs": [],
   "source": [
    "ifs.to_csv('flight_no_ifs.csv')"
   ]
  },
  {
   "cell_type": "code",
   "execution_count": 8,
   "id": "50c70fa7-0587-4457-ad46-216b16be7a26",
   "metadata": {
    "tags": []
   },
   "outputs": [],
   "source": [
    "gb = df.groupby(['origin_station_code','destination_station_code'])\n",
    "sat = gb['satisfaction_type'].sum()\n",
    "total = gb['satisfaction_type'].count()\n",
    "miles = gb['actual_flown_miles'].mean()\n",
    "delay = gb['arrival_delay_minutes'].mean()\n",
    "delayp = gb['arrival_delay_group'].sum()/gb['arrival_delay_group'].count()*100\n",
    "ifs = sat/total*100"
   ]
  }
 ],
 "metadata": {
  "kernelspec": {
   "display_name": "Python 3 (ipykernel)",
   "language": "python",
   "name": "python3"
  },
  "language_info": {
   "codemirror_mode": {
    "name": "ipython",
    "version": 3
   },
   "file_extension": ".py",
   "mimetype": "text/x-python",
   "name": "python",
   "nbconvert_exporter": "python",
   "pygments_lexer": "ipython3",
   "version": "3.9.13"
  }
 },
 "nbformat": 4,
 "nbformat_minor": 5
}
