{
 "cells": [
  {
   "cell_type": "code",
   "execution_count": 1,
   "id": "25debf2f-2882-4c68-856f-df0b74a0bf20",
   "metadata": {},
   "outputs": [],
   "source": [
    "import pandas as pd\n",
    "import numpy as np\n",
    "import matplotlib.pyplot as plt\n",
    "import networkx as nx\n",
    "from matplotlib.colors import LinearSegmentedColormap\n",
    "from pyvis.network import Network"
   ]
  },
  {
   "cell_type": "code",
   "execution_count": 2,
   "id": "f5fcd7a6-3178-45f5-abc7-2525af0802af",
   "metadata": {},
   "outputs": [],
   "source": [
    "survey_sat = pd.read_csv('Survey data_Inflight Satisfaction Score.csv')"
   ]
  },
  {
   "cell_type": "code",
   "execution_count": 3,
   "id": "47a01914-0606-4bf7-a021-9fd598f95edc",
   "metadata": {},
   "outputs": [],
   "source": [
    "df = survey_sat.loc[survey_sat['score'].isin(['1', '2', '3', '4', '5'])]"
   ]
  },
  {
   "cell_type": "code",
   "execution_count": 4,
   "id": "6e79a47a-aff6-4f5b-978e-f7e1550ed4a0",
   "metadata": {},
   "outputs": [],
   "source": [
    "df = df.astype({'score':'int'})"
   ]
  },
  {
   "cell_type": "code",
   "execution_count": 5,
   "id": "1c4b903b-cae1-44a4-9ec3-833a42fd8598",
   "metadata": {},
   "outputs": [],
   "source": [
    "adf = df.groupby(['origin_station_code','destination_station_code']).score.agg(['count','mean'])\n",
    "adf = adf[adf['count']>50]"
   ]
  },
  {
   "cell_type": "code",
   "execution_count": 6,
   "id": "6f394c1f-0a7f-48f3-8223-cc86b7a04dd7",
   "metadata": {},
   "outputs": [],
   "source": [
    "adf = adf.reset_index()"
   ]
  },
  {
   "cell_type": "code",
   "execution_count": 20,
   "id": "0d801fe7-5451-4b18-ad69-f648080f7875",
   "metadata": {},
   "outputs": [],
   "source": [
    "G = nx.from_pandas_edgelist(adf,\n",
    "                           source='origin_station_code',\n",
    "                           target='destination_station_code',\n",
    "                           edge_attr='mean',\n",
    "                           create_using=nx.Graph)"
   ]
  },
  {
   "cell_type": "code",
   "execution_count": 21,
   "id": "92cb1b0e-3da0-42b5-ae26-fc38a94bcf08",
   "metadata": {},
   "outputs": [],
   "source": [
    "colormap = LinearSegmentedColormap.from_list('custom',\n",
    "                                            [(0,'#ff0000'),\n",
    "                                            (1,'#00ff00')],\n",
    "                                            N=256)"
   ]
  },
  {
   "cell_type": "code",
   "execution_count": 29,
   "id": "6d53cb14-1b57-4a1d-9881-fbc581f7c066",
   "metadata": {},
   "outputs": [
    {
     "name": "stdout",
     "output_type": "stream",
     "text": [
      "Warning: When  cdn_resources is 'local' jupyter notebook has issues displaying graphics on chrome/safari. Use cdn_resources='in_line' or cdn_resources='remote' if you have issues viewing graphics in a notebook.\n"
     ]
    },
    {
     "ename": "TypeError",
     "evalue": "show() got an unexpected keyword argument 'edge_color'",
     "output_type": "error",
     "traceback": [
      "\u001b[1;31m---------------------------------------------------------------------------\u001b[0m",
      "\u001b[1;31mTypeError\u001b[0m                                 Traceback (most recent call last)",
      "\u001b[1;32m~\\AppData\\Local\\Temp\\ipykernel_20076\\2330220476.py\u001b[0m in \u001b[0;36m<cell line: 8>\u001b[1;34m()\u001b[0m\n\u001b[0;32m      6\u001b[0m \u001b[1;31m# nx.set_edge_attributes(G,colormap(adf['mean'].values/max(adf['mean'].values)),'color')\u001b[0m\u001b[1;33m\u001b[0m\u001b[1;33m\u001b[0m\u001b[0m\n\u001b[0;32m      7\u001b[0m \u001b[0mnet\u001b[0m\u001b[1;33m.\u001b[0m\u001b[0mfrom_nx\u001b[0m\u001b[1;33m(\u001b[0m\u001b[0mG\u001b[0m\u001b[1;33m)\u001b[0m\u001b[1;33m\u001b[0m\u001b[1;33m\u001b[0m\u001b[0m\n\u001b[1;32m----> 8\u001b[1;33m net.show('air routes.html',\n\u001b[0m\u001b[0;32m      9\u001b[0m         edge_color=adf['mean'].values)\n",
      "\u001b[1;31mTypeError\u001b[0m: show() got an unexpected keyword argument 'edge_color'"
     ]
    }
   ],
   "source": [
    "net = Network(notebook=True,width=\"1000px\",height='700px',bgcolor= '#222222', font_color='white')\n",
    "\n",
    "node_degree = dict(G.degree)\n",
    "\n",
    "nx.set_node_attributes(G,node_degree,'size')\n",
    "# nx.set_edge_attributes(G,colormap(adf['mean'].values/max(adf['mean'].values)),'color')\n",
    "net.from_nx(G)\n",
    "net.show('air routes.html',\n",
    "        edge_color=adf['mean'].values)"
   ]
  },
  {
   "cell_type": "code",
   "execution_count": 23,
   "id": "8be9b674-219c-4a84-a332-742bb2240592",
   "metadata": {},
   "outputs": [],
   "source": [
    "import community as community_louvain"
   ]
  },
  {
   "cell_type": "code",
   "execution_count": 24,
   "id": "7e7a9136-3985-4991-8ee8-c08792ba6d4c",
   "metadata": {},
   "outputs": [],
   "source": [
    "communities = community_louvain.best_partition(G)"
   ]
  },
  {
   "cell_type": "code",
   "execution_count": 25,
   "id": "33e12bfb-9852-47b3-a826-4b57d2bb2afa",
   "metadata": {
    "collapsed": true,
    "jupyter": {
     "outputs_hidden": true
    },
    "tags": []
   },
   "outputs": [
    {
     "data": {
      "text/plain": [
       "{'AMX': 0,\n",
       " 'IAX': 1,\n",
       " 'ATX': 1,\n",
       " 'EWX': 0,\n",
       " 'AUX': 0,\n",
       " 'BCX': 0,\n",
       " 'BOX': 2,\n",
       " 'DEX': 3,\n",
       " 'ORX': 3,\n",
       " 'SFX': 2,\n",
       " 'CDX': 2,\n",
       " 'CLX': 3,\n",
       " 'CUX': 1,\n",
       " 'HNX': 2,\n",
       " 'LAX': 2,\n",
       " 'LGX': 3,\n",
       " 'LHX': 2,\n",
       " 'MCX': 3,\n",
       " 'MSX': 3,\n",
       " 'PHX': 3,\n",
       " 'SAX': 3,\n",
       " 'DUX': 0,\n",
       " 'EDX': 1,\n",
       " 'FCX': 3,\n",
       " 'PBX': 0,\n",
       " 'SEX': 3,\n",
       " 'SJX': 1,\n",
       " 'SNX': 0,\n",
       " 'TLX': 2,\n",
       " 'TPX': 2,\n",
       " 'EZX': 1,\n",
       " 'FLX': 1,\n",
       " 'FRX': 2,\n",
       " 'GVX': 0,\n",
       " 'JAX': 1,\n",
       " 'LIX': 3,\n",
       " 'MEX': 1,\n",
       " 'JNX': 0,\n",
       " 'KOX': 3,\n",
       " 'MAX': 1,\n",
       " 'MIX': 1,\n",
       " 'MUX': 1,\n",
       " 'MXX': 0,\n",
       " 'NAX': 0,\n",
       " 'OGX': 2,\n",
       " 'GRX': 3,\n",
       " 'PDX': 3,\n",
       " 'PPX': 2,\n",
       " 'SIX': 2,\n",
       " 'SYX': 2,\n",
       " 'VCX': 0,\n",
       " 'YVX': 3,\n",
       " 'ZRX': 2}"
      ]
     },
     "execution_count": 25,
     "metadata": {},
     "output_type": "execute_result"
    }
   ],
   "source": [
    "communities"
   ]
  },
  {
   "cell_type": "code",
   "execution_count": 26,
   "id": "ade264eb-81a2-4761-9fdd-0c9d25f24c63",
   "metadata": {},
   "outputs": [],
   "source": [
    "nx.set_node_attributes(G,communities,'group')"
   ]
  },
  {
   "cell_type": "code",
   "execution_count": 28,
   "id": "f7127f75-66c8-417f-8e55-1415a79a6eb9",
   "metadata": {},
   "outputs": [
    {
     "name": "stdout",
     "output_type": "stream",
     "text": [
      "Warning: When  cdn_resources is 'local' jupyter notebook has issues displaying graphics on chrome/safari. Use cdn_resources='in_line' or cdn_resources='remote' if you have issues viewing graphics in a notebook.\n",
      "comunity air routes.html\n"
     ]
    },
    {
     "data": {
      "text/html": [
       "\n",
       "        <iframe\n",
       "            width=\"1000px\"\n",
       "            height=\"700px\"\n",
       "            src=\"comunity air routes.html\"\n",
       "            frameborder=\"0\"\n",
       "            allowfullscreen\n",
       "            \n",
       "        ></iframe>\n",
       "        "
      ],
      "text/plain": [
       "<IPython.lib.display.IFrame at 0x297a2d0b7c0>"
      ]
     },
     "execution_count": 28,
     "metadata": {},
     "output_type": "execute_result"
    }
   ],
   "source": [
    "com_net = Network(notebook=True, width = '1000px', height = '700px', bgcolor='#222222',font_color='white')\n",
    "com_net.from_nx(G)\n",
    "com_net.show('comunity air routes.html')"
   ]
  },
  {
   "cell_type": "code",
   "execution_count": null,
   "id": "fd2f6e12-de64-43ac-b147-c32fbe0fa8d9",
   "metadata": {},
   "outputs": [],
   "source": []
  }
 ],
 "metadata": {
  "kernelspec": {
   "display_name": "Python 3 (ipykernel)",
   "language": "python",
   "name": "python3"
  },
  "language_info": {
   "codemirror_mode": {
    "name": "ipython",
    "version": 3
   },
   "file_extension": ".py",
   "mimetype": "text/x-python",
   "name": "python",
   "nbconvert_exporter": "python",
   "pygments_lexer": "ipython3",
   "version": "3.9.13"
  }
 },
 "nbformat": 4,
 "nbformat_minor": 5
}
